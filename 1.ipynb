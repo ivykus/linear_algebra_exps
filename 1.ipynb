{
 "cells": [
  {
   "cell_type": "code",
   "execution_count": 4,
   "metadata": {},
   "outputs": [
    {
     "name": "stdout",
     "output_type": "stream",
     "text": [
      "u*v =  4.440892098500626e-16\n",
      "u*w =  1.0\n",
      "u *(v+w) =  1.0\n",
      "v*w =  10\n",
      "u_len =  1.0\n",
      "v_len =  5.0\n",
      "w_len =  2.23606797749979\n",
      "u_unit =  [-0.6  0.8]\n",
      "v_unit =  [0.8 0.6]\n",
      "w_unit =  [0.4472136  0.89442719]\n",
      "angle between u and v =  1.5707963267948966\n"
     ]
    }
   ],
   "source": [
    "import numpy as np\n",
    "\n",
    "\n",
    "u = np.array([-0.6, 0.8])\n",
    "v = np.array([4, 3])\n",
    "w = np.array([1, 2])\n",
    "\n",
    "print(\"u*v = \", np.dot(u, v))\n",
    "print(\"u*w = \", np.dot(u, w))\n",
    "print(\"u *(v+w) = \", np.dot(u, v + w))\n",
    "print(\"v*w = \", np.dot(v, w))\n",
    "\n",
    "# Calculate the lengths of the vectors\n",
    "u_len = np.linalg.norm(u)\n",
    "v_len = np.linalg.norm(v)\n",
    "w_len = np.linalg.norm(w)\n",
    "\n",
    "print(\"u_len = \", u_len)\n",
    "print(\"v_len = \", v_len)\n",
    "print(\"w_len = \", w_len)\n",
    "\n",
    "# Find unit vectors\n",
    "u_unit = u / u_len\n",
    "v_unit = v / v_len\n",
    "w_unit = w / w_len\n",
    "\n",
    "print(\"u_unit = \", u_unit)\n",
    "print(\"v_unit = \", v_unit)\n",
    "print(\"w_unit = \", w_unit)\n",
    "\n",
    "# Calculate the angle between the vectors\n",
    "angle = np.arccos(np.dot(u, v) / (u_len * v_len))\n",
    "\n",
    "print(\"angle between u and v = \", angle)\n",
    "\n",
    "\n"
   ]
  }
 ],
 "metadata": {
  "kernelspec": {
   "display_name": "Python 3",
   "language": "python",
   "name": "python3"
  },
  "language_info": {
   "codemirror_mode": {
    "name": "ipython",
    "version": 3
   },
   "file_extension": ".py",
   "mimetype": "text/x-python",
   "name": "python",
   "nbconvert_exporter": "python",
   "pygments_lexer": "ipython3",
   "version": "3.11.6"
  }
 },
 "nbformat": 4,
 "nbformat_minor": 2
}
